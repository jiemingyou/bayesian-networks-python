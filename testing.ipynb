{
 "cells": [
  {
   "cell_type": "code",
   "execution_count": 1,
   "metadata": {},
   "outputs": [],
   "source": [
    "import numpy as np"
   ]
  },
  {
   "cell_type": "code",
   "execution_count": 45,
   "metadata": {},
   "outputs": [],
   "source": [
    "class BayesianNetwork:\n",
    "    def __init__(self):\n",
    "        self.nodes = set()\n",
    "        self.edges = set()\n",
    "\n",
    "    def __len__(self):\n",
    "        return len(self.nodes)\n",
    "\n",
    "    def __str__(self):\n",
    "        return f\"Nodes: {self.nodes}\\nEdges: {self.edges}\"\n",
    "\n",
    "    def __repr__(self):\n",
    "        return f\"Nodes: {self.nodes}\\nEdges: {self.edges}\"\n",
    "\n",
    "    def add_node(self, node: str) -> None:\n",
    "        \"\"\"Add a node to the network.\"\"\"\n",
    "        self.nodes.add(node)\n",
    "\n",
    "    def add_edge(self, node1: str, node2: str) -> None:\n",
    "        \"\"\"\n",
    "        Add an directed edge to the network.\n",
    "        node1 -> node2\n",
    "        \"\"\"\n",
    "        self.edges.add((node1, node2))\n",
    "\n",
    "    def get_parents(self, node: str) -> list:\n",
    "        \"\"\"Get the parents of a node.\"\"\"\n",
    "        parents = []\n",
    "        for edge in self.edges:\n",
    "            if edge[1] == node:\n",
    "                parents.append(edge[0])\n",
    "        return parents\n",
    "\n",
    "    def get_children(self, node: str) -> list:\n",
    "        \"\"\"Get the children of a node.\"\"\"\n",
    "        children = []\n",
    "        for edge in self.edges:\n",
    "            if edge[0] == node:\n",
    "                children.append(edge[1])\n",
    "        return children\n",
    "\n",
    "    def get_neighbors(self, node: str) -> list:\n",
    "        \"\"\"Get the neighbors of a node.\"\"\"\n",
    "        neighbors = []\n",
    "        for edge in self.edges:\n",
    "            if edge[0] == node:\n",
    "                neighbors.append(edge[1])\n",
    "            elif edge[1] == node:\n",
    "                neighbors.append(edge[0])\n",
    "        return neighbors\n",
    "\n",
    "    def get_paths(self, node1: str, node2: str, visited: set = None) -> list:\n",
    "        \"\"\"\n",
    "        Get all paths from node1 to node2.\n",
    "        Treat the network as an undirected graph.\n",
    "        \"\"\"\n",
    "        if visited is None:\n",
    "            visited = set()\n",
    "        visited.add(node1)\n",
    "\n",
    "        paths = []\n",
    "        if node1 == node2:\n",
    "            return [[node1]]\n",
    "\n",
    "        for node in self.get_neighbors(node1):\n",
    "            if node not in visited:\n",
    "                for path in self.get_paths(node, node2, visited.copy()):\n",
    "                    paths.append([node1] + path)\n",
    "\n",
    "        return paths\n",
    "\n",
    "    def is_collider(self, node1: str) -> bool:\n",
    "        pass"
   ]
  },
  {
   "cell_type": "code",
   "execution_count": 46,
   "metadata": {},
   "outputs": [
    {
     "data": {
      "text/plain": [
       "[['A', 'F', 'E'],\n",
       " ['A', 'C', 'D', 'E'],\n",
       " ['A', 'C', 'B', 'E'],\n",
       " ['A', 'D', 'C', 'B', 'E'],\n",
       " ['A', 'D', 'E']]"
      ]
     },
     "execution_count": 46,
     "metadata": {},
     "output_type": "execute_result"
    }
   ],
   "source": [
    "bn = BayesianNetwork()\n",
    "bn.add_node(\"A\")\n",
    "bn.add_node(\"B\")\n",
    "bn.add_node(\"C\")\n",
    "bn.add_node(\"D\")\n",
    "bn.add_node(\"E\")\n",
    "bn.add_node(\"F\")\n",
    "\n",
    "bn.add_edge(\"A\", \"C\")\n",
    "bn.add_edge(\"A\", \"D\")\n",
    "bn.add_edge(\"A\", \"F\")\n",
    "bn.add_edge(\"B\", \"C\")\n",
    "bn.add_edge(\"B\", \"E\")\n",
    "bn.add_edge(\"C\", \"D\")\n",
    "bn.add_edge(\"D\", \"E\")\n",
    "bn.add_edge(\"F\", \"E\")\n",
    "\n",
    "bn.get_paths(\"A\", \"E\")"
   ]
  },
  {
   "cell_type": "code",
   "execution_count": null,
   "metadata": {},
   "outputs": [],
   "source": []
  }
 ],
 "metadata": {
  "kernelspec": {
   "display_name": "ray",
   "language": "python",
   "name": "python3"
  },
  "language_info": {
   "codemirror_mode": {
    "name": "ipython",
    "version": 3
   },
   "file_extension": ".py",
   "mimetype": "text/x-python",
   "name": "python",
   "nbconvert_exporter": "python",
   "pygments_lexer": "ipython3",
   "version": "3.10.13"
  }
 },
 "nbformat": 4,
 "nbformat_minor": 2
}
