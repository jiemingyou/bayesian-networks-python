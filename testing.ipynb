{
 "cells": [
  {
   "cell_type": "code",
   "execution_count": 1,
   "metadata": {},
   "outputs": [
    {
     "data": {
      "text/plain": [
       "(False, ['C', 'A', 'D', 'E'])"
      ]
     },
     "execution_count": 1,
     "metadata": {},
     "output_type": "execute_result"
    }
   ],
   "source": [
    "from src.network import BayesianNetwork\n",
    "\n",
    "# Initiate the network\n",
    "bn = BayesianNetwork()\n",
    "\n",
    "# Add the nodes\n",
    "bn.add_node(\"A\")\n",
    "bn.add_node(\"B\")\n",
    "bn.add_node(\"C\")\n",
    "bn.add_node(\"D\")\n",
    "bn.add_node(\"E\")\n",
    "bn.add_node(\"F\")\n",
    "\n",
    "# Add the directed edges\n",
    "bn.add_edge(\"A\", \"C\")\n",
    "bn.add_edge(\"A\", \"D\")\n",
    "bn.add_edge(\"A\", \"F\")\n",
    "bn.add_edge(\"B\", \"C\")\n",
    "bn.add_edge(\"B\", \"E\")\n",
    "bn.add_edge(\"C\", \"D\")\n",
    "bn.add_edge(\"D\", \"E\")\n",
    "bn.add_edge(\"F\", \"E\")\n",
    "\n",
    "# Calculate the d-separation\n",
    "bn.is_d_separated(\"C\", \"E\", [\"B\", \"D\"])"
   ]
  },
  {
   "cell_type": "code",
   "execution_count": null,
   "metadata": {},
   "outputs": [],
   "source": []
  }
 ],
 "metadata": {
  "kernelspec": {
   "display_name": "ray",
   "language": "python",
   "name": "python3"
  },
  "language_info": {
   "codemirror_mode": {
    "name": "ipython",
    "version": 3
   },
   "file_extension": ".py",
   "mimetype": "text/x-python",
   "name": "python",
   "nbconvert_exporter": "python",
   "pygments_lexer": "ipython3",
   "version": "3.10.13"
  }
 },
 "nbformat": 4,
 "nbformat_minor": 2
}
